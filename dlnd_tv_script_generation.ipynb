{
 "cells": [
  {
   "cell_type": "markdown",
   "metadata": {
    "toc": true
   },
   "source": [
    "<h1>Table of Contents<span class=\"tocSkip\"></span></h1>\n",
    "<div class=\"toc\"><ul class=\"toc-item\"><li><span><a href=\"#TV-Script-Generation\" data-toc-modified-id=\"TV-Script-Generation-1\"><span class=\"toc-item-num\">1&nbsp;&nbsp;</span>TV Script Generation</a></span><ul class=\"toc-item\"><li><span><a href=\"#Get-the-Data\" data-toc-modified-id=\"Get-the-Data-1.1\"><span class=\"toc-item-num\">1.1&nbsp;&nbsp;</span>Get the Data</a></span></li><li><span><a href=\"#Explore-the-Data\" data-toc-modified-id=\"Explore-the-Data-1.2\"><span class=\"toc-item-num\">1.2&nbsp;&nbsp;</span>Explore the Data</a></span></li><li><span><a href=\"#Implement-Preprocessing-Functions\" data-toc-modified-id=\"Implement-Preprocessing-Functions-1.3\"><span class=\"toc-item-num\">1.3&nbsp;&nbsp;</span>Implement Preprocessing Functions</a></span><ul class=\"toc-item\"><li><span><a href=\"#Lookup-Table\" data-toc-modified-id=\"Lookup-Table-1.3.1\"><span class=\"toc-item-num\">1.3.1&nbsp;&nbsp;</span>Lookup Table</a></span></li><li><span><a href=\"#Tokenize-Punctuation\" data-toc-modified-id=\"Tokenize-Punctuation-1.3.2\"><span class=\"toc-item-num\">1.3.2&nbsp;&nbsp;</span>Tokenize Punctuation</a></span></li></ul></li><li><span><a href=\"#Preprocess-all-the-data-and-save-it\" data-toc-modified-id=\"Preprocess-all-the-data-and-save-it-1.4\"><span class=\"toc-item-num\">1.4&nbsp;&nbsp;</span>Preprocess all the data and save it</a></span></li></ul></li><li><span><a href=\"#Check-Point\" data-toc-modified-id=\"Check-Point-2\"><span class=\"toc-item-num\">2&nbsp;&nbsp;</span>Check Point</a></span><ul class=\"toc-item\"><li><span><a href=\"#Build-the-Neural-Network\" data-toc-modified-id=\"Build-the-Neural-Network-2.1\"><span class=\"toc-item-num\">2.1&nbsp;&nbsp;</span>Build the Neural Network</a></span><ul class=\"toc-item\"><li><span><a href=\"#Check-the-Version-of-TensorFlow-and-Access-to-GPU\" data-toc-modified-id=\"Check-the-Version-of-TensorFlow-and-Access-to-GPU-2.1.1\"><span class=\"toc-item-num\">2.1.1&nbsp;&nbsp;</span>Check the Version of TensorFlow and Access to GPU</a></span></li><li><span><a href=\"#Batches\" data-toc-modified-id=\"Batches-2.1.2\"><span class=\"toc-item-num\">2.1.2&nbsp;&nbsp;</span>Batches</a></span></li></ul></li><li><span><a href=\"#Neural-Network-Training\" data-toc-modified-id=\"Neural-Network-Training-2.2\"><span class=\"toc-item-num\">2.2&nbsp;&nbsp;</span>Neural Network Training</a></span><ul class=\"toc-item\"><li><span><a href=\"#Hyperparameters\" data-toc-modified-id=\"Hyperparameters-2.2.1\"><span class=\"toc-item-num\">2.2.1&nbsp;&nbsp;</span>Hyperparameters</a></span></li><li><span><a href=\"#Build-the-Graph\" data-toc-modified-id=\"Build-the-Graph-2.2.2\"><span class=\"toc-item-num\">2.2.2&nbsp;&nbsp;</span>Build the Graph</a></span></li></ul></li></ul></li><li><span><a href=\"#The-TV-Script-is-Nonsensical\" data-toc-modified-id=\"The-TV-Script-is-Nonsensical-3\"><span class=\"toc-item-num\">3&nbsp;&nbsp;</span>The TV Script is Nonsensical</a></span></li><li><span><a href=\"#Submitting-This-Project\" data-toc-modified-id=\"Submitting-This-Project-4\"><span class=\"toc-item-num\">4&nbsp;&nbsp;</span>Submitting This Project</a></span></li></ul></div>"
   ]
  },
  {
   "cell_type": "markdown",
   "metadata": {},
   "source": [
    "# TV Script Generation\n",
    "In this project, you'll generate your own [Simpsons](https://en.wikipedia.org/wiki/The_Simpsons) TV scripts using RNNs.  You'll be using part of the [Simpsons dataset](https://www.kaggle.com/wcukierski/the-simpsons-by-the-data) of scripts from 27 seasons.  The Neural Network you'll build will generate a new TV script for a scene at [Moe's Tavern](https://simpsonswiki.com/wiki/Moe's_Tavern).\n",
    "## Get the Data\n",
    "The data is already provided for you.  You'll be using a subset of the original dataset.  It consists of only the scenes in Moe's Tavern.  This doesn't include other versions of the tavern, like \"Moe's Cavern\", \"Flaming Moe's\", \"Uncle Moe's Family Feed-Bag\", etc.."
   ]
  },
  {
   "cell_type": "code",
   "execution_count": 1,
   "metadata": {},
   "outputs": [],
   "source": [
    "\"\"\"\n",
    "DON'T MODIFY ANYTHING IN THIS CELL\n",
    "\"\"\"\n",
    "import helper\n",
    "from time import time\n",
    "\n",
    "data_dir = './data/simpsons/moes_tavern_lines.txt'\n",
    "text = helper.load_data(data_dir)\n",
    "# Ignore notice, since we don't use it for analysing the data\n",
    "text = text[81:]"
   ]
  },
  {
   "cell_type": "markdown",
   "metadata": {},
   "source": [
    "## Explore the Data\n",
    "Play around with `view_sentence_range` to view different parts of the data."
   ]
  },
  {
   "cell_type": "code",
   "execution_count": 2,
   "metadata": {},
   "outputs": [
    {
     "name": "stdout",
     "output_type": "stream",
     "text": [
      "Dataset Stats\n",
      "Roughly the number of unique words: 11492\n",
      "Number of scenes: 262\n",
      "Average number of sentences in each scene: 15.248091603053435\n",
      "Number of lines: 4257\n",
      "Average number of words in each line: 11.50434578341555\n",
      "\n",
      "The sentences 0 to 10:\n",
      "Moe_Szyslak: (INTO PHONE) Moe's Tavern. Where the elite meet to drink.\n",
      "Bart_Simpson: Eh, yeah, hello, is Mike there? Last name, Rotch.\n",
      "Moe_Szyslak: (INTO PHONE) Hold on, I'll check. (TO BARFLIES) Mike Rotch. Mike Rotch. Hey, has anybody seen Mike Rotch, lately?\n",
      "Moe_Szyslak: (INTO PHONE) Listen you little puke. One of these days I'm gonna catch you, and I'm gonna carve my name on your back with an ice pick.\n",
      "Moe_Szyslak: What's the matter Homer? You're not your normal effervescent self.\n",
      "Homer_Simpson: I got my problems, Moe. Give me another one.\n",
      "Moe_Szyslak: Homer, hey, you should not drink to forget your problems.\n",
      "Barney_Gumble: Yeah, you should only drink to enhance your social skills.\n",
      "\n",
      "\n"
     ]
    }
   ],
   "source": [
    "view_sentence_range = (0, 10)\n",
    "\n",
    "\"\"\"\n",
    "DON'T MODIFY ANYTHING IN THIS CELL\n",
    "\"\"\"\n",
    "import numpy as np\n",
    "\n",
    "print('Dataset Stats')\n",
    "print('Roughly the number of unique words: {}'.format(len({word: None for word in text.split()})))\n",
    "scenes = text.split('\\n\\n')\n",
    "print('Number of scenes: {}'.format(len(scenes)))\n",
    "sentence_count_scene = [scene.count('\\n') for scene in scenes]\n",
    "print('Average number of sentences in each scene: {}'.format(np.average(sentence_count_scene)))\n",
    "\n",
    "sentences = [sentence for scene in scenes for sentence in scene.split('\\n')]\n",
    "print('Number of lines: {}'.format(len(sentences)))\n",
    "word_count_sentence = [len(sentence.split()) for sentence in sentences]\n",
    "print('Average number of words in each line: {}'.format(np.average(word_count_sentence)))\n",
    "\n",
    "print()\n",
    "print('The sentences {} to {}:'.format(*view_sentence_range))\n",
    "print('\\n'.join(text.split('\\n')[view_sentence_range[0]:view_sentence_range[1]]))"
   ]
  },
  {
   "cell_type": "markdown",
   "metadata": {},
   "source": [
    "## Implement Preprocessing Functions\n",
    "The first thing to do to any dataset is preprocessing.  Implement the following preprocessing functions below:\n",
    "- Lookup Table\n",
    "- Tokenize Punctuation\n",
    "\n",
    "### Lookup Table\n",
    "To create a word embedding, you first need to transform the words to ids.  In this function, create two dictionaries:\n",
    "- Dictionary to go from the words to an id, we'll call `vocab_to_int`\n",
    "- Dictionary to go from the id to word, we'll call `int_to_vocab`\n",
    "\n",
    "Return these dictionaries in the following tuple `(vocab_to_int, int_to_vocab)`"
   ]
  },
  {
   "cell_type": "code",
   "execution_count": 3,
   "metadata": {},
   "outputs": [
    {
     "name": "stdout",
     "output_type": "stream",
     "text": [
      "Tests Passed\n"
     ]
    }
   ],
   "source": [
    "import problem_unittests as tests\n",
    "\n",
    "def create_lookup_tables(text):\n",
    "    \"\"\"\n",
    "    Create lookup tables for vocabulary\n",
    "    :param text: The text of tv scripts split into words\n",
    "    :return: A tuple of dicts (vocab_to_int, int_to_vocab)\n",
    "    \"\"\"\n",
    "    # TODO: Implement Function\n",
    "    conj=set()\n",
    "    vocab_to_int=dict()\n",
    "    int_to_vocab=dict()\n",
    "    for word in text:\n",
    "        conj.add(word)\n",
    "        \n",
    "    for i,word in enumerate(conj):\n",
    "        vocab_to_int[word]=i\n",
    "        int_to_vocab[i]=word\n",
    "        \n",
    "    return (vocab_to_int, int_to_vocab)\n",
    "\n",
    "\n",
    "\n",
    "\"\"\"\n",
    "DON'T MODIFY ANYTHING IN THIS CELL THAT IS BELOW THIS LINE\n",
    "\"\"\"\n",
    "tests.test_create_lookup_tables(create_lookup_tables)"
   ]
  },
  {
   "cell_type": "markdown",
   "metadata": {},
   "source": [
    "### Tokenize Punctuation\n",
    "We'll be splitting the script into a word array using spaces as delimiters.  However, punctuations like periods and exclamation marks make it hard for the neural network to distinguish between the word \"bye\" and \"bye!\".\n",
    "\n",
    "Implement the function `token_lookup` to return a dict that will be used to tokenize symbols like \"!\" into \"||Exclamation_Mark||\".  Create a dictionary for the following symbols where the symbol is the key and value is the token:\n",
    "- Period ( . )\n",
    "- Comma ( , )\n",
    "- Quotation Mark ( \" )\n",
    "- Semicolon ( ; )\n",
    "- Exclamation mark ( ! )\n",
    "- Question mark ( ? )\n",
    "- Left Parentheses ( ( )\n",
    "- Right Parentheses ( ) )\n",
    "- Dash ( -- )\n",
    "- Return ( \\n )\n",
    "\n",
    "This dictionary will be used to token the symbols and add the delimiter (space) around it.  This separates the symbols as it's own word, making it easier for the neural network to predict on the next word. Make sure you don't use a token that could be confused as a word. Instead of using the token \"dash\", try using something like \"||dash||\"."
   ]
  },
  {
   "cell_type": "code",
   "execution_count": 4,
   "metadata": {},
   "outputs": [
    {
     "name": "stdout",
     "output_type": "stream",
     "text": [
      "Tests Passed\n"
     ]
    }
   ],
   "source": [
    "def token_lookup():\n",
    "    \"\"\"\n",
    "    Generate a dict to turn punctuation into a token.\n",
    "    :return: Tokenize dictionary where the key is the punctuation and the value is the token\n",
    "    \"\"\"\n",
    "    # TODO: Implement Function\n",
    "    pont=dict()\n",
    "    pont[\".\"]=\"||period||\"\n",
    "    pont[\",\"]=\"||comma||\"\n",
    "    pont[\"\\\"\"]=\"||quotation_mark||\"\n",
    "    pont[\";\"]=\"||semicolon||\"\n",
    "    pont[\"!\"]=\"||exclamation_mark||\"\n",
    "    pont[\"?\"]=\"||question_mark||\"\n",
    "    pont[\"(\"]=\"||left_parentheses||\"\n",
    "    pont[\")\"]=\"||right_parentheses||\"\n",
    "    pont[\"--\"]=\"||dash||\"\n",
    "    pont[\"\\n\"]=\"||return||\"\n",
    "    return pont\n",
    "\n",
    "\"\"\"\n",
    "DON'T MODIFY ANYTHING IN THIS CELL THAT IS BELOW THIS LINE\n",
    "\"\"\"\n",
    "tests.test_tokenize(token_lookup)"
   ]
  },
  {
   "cell_type": "markdown",
   "metadata": {},
   "source": [
    "## Preprocess all the data and save it\n",
    "Running the code cell below will preprocess all the data and save it to file."
   ]
  },
  {
   "cell_type": "code",
   "execution_count": 5,
   "metadata": {},
   "outputs": [],
   "source": [
    "\"\"\"\n",
    "DON'T MODIFY ANYTHING IN THIS CELL\n",
    "\"\"\"\n",
    "# Preprocess Training, Validation, and Testing Data\n",
    "helper.preprocess_and_save_data(data_dir, token_lookup, create_lookup_tables)"
   ]
  },
  {
   "cell_type": "markdown",
   "metadata": {},
   "source": [
    "# Check Point\n",
    "This is your first checkpoint. If you ever decide to come back to this notebook or have to restart the notebook, you can start from here. The preprocessed data has been saved to disk."
   ]
  },
  {
   "cell_type": "code",
   "execution_count": 6,
   "metadata": {},
   "outputs": [],
   "source": [
    "\"\"\"\n",
    "DON'T MODIFY ANYTHING IN THIS CELL\n",
    "\"\"\"\n",
    "import helper\n",
    "import numpy as np\n",
    "import problem_unittests as tests\n",
    "\n",
    "int_text, vocab_to_int, int_to_vocab, token_dict = helper.load_preprocess()"
   ]
  },
  {
   "cell_type": "markdown",
   "metadata": {},
   "source": [
    "## Build the Neural Network\n",
    "You'll build the components necessary to build a RNN by implementing the following functions below:\n",
    "- get_inputs\n",
    "- get_init_cell\n",
    "- get_embed\n",
    "- build_rnn\n",
    "- build_nn\n",
    "- get_batches\n",
    "\n",
    "### Check the Version of TensorFlow and Access to GPU"
   ]
  },
  {
   "cell_type": "code",
   "execution_count": 7,
   "metadata": {},
   "outputs": [
    {
     "name": "stdout",
     "output_type": "stream",
     "text": [
      "TensorFlow Version: 2.0.0\n",
      "Default GPU Device: /device:GPU:0\n"
     ]
    }
   ],
   "source": [
    "\"\"\"\n",
    "DON'T MODIFY ANYTHING IN THIS CELL\n",
    "\"\"\"\n",
    "from distutils.version import LooseVersion\n",
    "import warnings\n",
    "import tensorflow as tf\n",
    "\n",
    "# Check TensorFlow Version\n",
    "assert LooseVersion(tf.__version__) >= LooseVersion('1.3'), 'Please use TensorFlow version 1.3 or newer'\n",
    "print('TensorFlow Version: {}'.format(tf.__version__))\n",
    "\n",
    "# Check for a GPU\n",
    "if not tf.test.gpu_device_name():\n",
    "    warnings.warn('No GPU found. Please use a GPU to train your neural network.')\n",
    "else:\n",
    "    print('Default GPU Device: {}'.format(tf.test.gpu_device_name()))"
   ]
  },
  {
   "cell_type": "code",
   "execution_count": 8,
   "metadata": {},
   "outputs": [],
   "source": [
    "class TextGenerator(tf.keras.models.Model):\n",
    "    def __init__(self, num_layers, rnn_size, batch_size, vocab_size, embed_dim, seq_length):\n",
    "        super(TextGenerator, self).__init__()\n",
    "        \n",
    "        self.batch_size = batch_size\n",
    "        self.rnn_size = rnn_size\n",
    "        self.num_layers = num_layers\n",
    "        \n",
    "        self.embed = tf.keras.layers.Embedding(input_dim=vocab_size, output_dim=embed_dim, \n",
    "                                               input_length=seq_length)\n",
    "        \n",
    "        self.rnn_layers = [tf.keras.layers.LSTM(units=rnn_size, batch_size=batch_size, \n",
    "                                                return_sequences=True) \n",
    "                           for _ in range(num_layers)]\n",
    "        \n",
    "        self.fc = tf.keras.layers.Dense(units=vocab_size)\n",
    "        \n",
    "        self.act = tf.keras.layers.Softmax()\n",
    "        \n",
    "    def call(self, x):\n",
    "        \n",
    "        x = self.embed(x)\n",
    "        for i in range(self.num_layers):\n",
    "                x = self.rnn_layers[i](x)\n",
    "        \n",
    "        logits = self.fc(x)\n",
    "        output = self.act(logits)\n",
    "        \n",
    "        return logits, output"
   ]
  },
  {
   "cell_type": "markdown",
   "metadata": {},
   "source": [
    "### Batches\n",
    "Implement `get_batches` to create batches of input and targets using `int_text`.  The batches should be a Numpy array with the shape `(number of batches, 2, batch size, sequence length)`. Each batch contains two elements:\n",
    "- The first element is a single batch of **input** with the shape `[batch size, sequence length]`\n",
    "- The second element is a single batch of **targets** with the shape `[batch size, sequence length]`\n",
    "\n",
    "If you can't fill the last batch with enough data, drop the last batch.\n",
    "\n",
    "For example, `get_batches([1, 2, 3, 4, 5, 6, 7, 8, 9, 10, 11, 12, 13, 14, 15, 16, 17, 18, 19, 20], 3, 2)` would return a Numpy array of the following:\n",
    "```\n",
    "[\n",
    "  # First Batch\n",
    "  [\n",
    "    # Batch of Input\n",
    "    [[ 1  2], [ 7  8], [13 14]]\n",
    "    # Batch of targets\n",
    "    [[ 2  3], [ 8  9], [14 15]]\n",
    "  ]\n",
    "\n",
    "  # Second Batch\n",
    "  [\n",
    "    # Batch of Input\n",
    "    [[ 3  4], [ 9 10], [15 16]]\n",
    "    # Batch of targets\n",
    "    [[ 4  5], [10 11], [16 17]]\n",
    "  ]\n",
    "\n",
    "  # Third Batch\n",
    "  [\n",
    "    # Batch of Input\n",
    "    [[ 5  6], [11 12], [17 18]]\n",
    "    # Batch of targets\n",
    "    [[ 6  7], [12 13], [18  1]]\n",
    "  ]\n",
    "]\n",
    "```\n",
    "\n",
    "Notice that the last target value in the last batch is the first input value of the first batch. In this case, `1`. This is a common technique used when creating sequence batches, although it is rather unintuitive."
   ]
  },
  {
   "cell_type": "code",
   "execution_count": 9,
   "metadata": {},
   "outputs": [
    {
     "name": "stdout",
     "output_type": "stream",
     "text": [
      "Tests Passed\n"
     ]
    }
   ],
   "source": [
    "def get_batches(int_text, batch_size, seq_length):\n",
    "    \"\"\"\n",
    "    Return batches of input and target\n",
    "    :param int_text: Text with the words replaced by their ids\n",
    "    :param batch_size: The size of batch\n",
    "    :param seq_length: The length of sequence\n",
    "    :return: Batches as a Numpy array\n",
    "    \"\"\"\n",
    "    # TODO: Implement Function\n",
    "    num=len(int_text)//(batch_size*seq_length)\n",
    "    text=np.array(int_text[:num*(seq_length*batch_size)])\n",
    "    inputs=text.reshape(-1,seq_length)\n",
    "    target=np.roll(text,-1).reshape(-1,seq_length)\n",
    "    output=np.zeros(shape=(num, 2, batch_size, seq_length),dtype=np.int)\n",
    "    for i in range(inputs.shape[0]):\n",
    "        nb=i%num\n",
    "        y=i//num\n",
    "        output[nb,0,y,:]=inputs[i,:]\n",
    "        output[nb,1,y,:]=target[i,:]\n",
    "    return output\n",
    "\n",
    "\n",
    "\"\"\"\n",
    "DON'T MODIFY ANYTHING IN THIS CELL THAT IS BELOW THIS LINE\n",
    "\"\"\"\n",
    "tests.test_get_batches(get_batches)"
   ]
  },
  {
   "cell_type": "markdown",
   "metadata": {},
   "source": [
    "## Neural Network Training\n",
    "### Hyperparameters\n",
    "Tune the following parameters:\n",
    "\n",
    "- Set `num_epochs` to the number of epochs.\n",
    "- Set `batch_size` to the batch size.\n",
    "- Set `rnn_size` to the size of the RNNs.\n",
    "- Set `embed_dim` to the size of the embedding.\n",
    "- Set `seq_length` to the length of sequence.\n",
    "- Set `learning_rate` to the learning rate.\n",
    "- Set `show_every_n_batches` to the number of batches the neural network should print progress."
   ]
  },
  {
   "cell_type": "code",
   "execution_count": 60,
   "metadata": {},
   "outputs": [],
   "source": [
    "num_epochs = 130\n",
    "batch_size = 128\n",
    "rnn_size = 128\n",
    "embed_dim = 128\n",
    "seq_length = 16\n",
    "learning_rate = 0.01\n",
    "show_every_n_batches = 50\n",
    "sample_every_n_batches = 500\n",
    "num_layers = 2\n",
    "vocab_size = len(vocab_to_int)\n",
    "\n",
    "\"\"\"\n",
    "DON'T MODIFY ANYTHING IN THIS CELL THAT IS BELOW THIS LINE\n",
    "\"\"\"\n",
    "save_dir = './save'"
   ]
  },
  {
   "cell_type": "markdown",
   "metadata": {},
   "source": [
    "### Build the Graph\n",
    "Build the graph using the neural network you implemented."
   ]
  },
  {
   "cell_type": "code",
   "execution_count": 62,
   "metadata": {},
   "outputs": [],
   "source": [
    "train_model = TextGenerator(num_layers, rnn_size, batch_size, vocab_size, embed_dim, seq_length)\n",
    "opt = tf.keras.optimizers.Adam(learning_rate)"
   ]
  },
  {
   "cell_type": "code",
   "execution_count": 63,
   "metadata": {},
   "outputs": [],
   "source": [
    "def loss_func(y_true, logits):\n",
    "    return tf.keras.losses.SparseCategoricalCrossentropy(from_logits=True)(y_true, logits)"
   ]
  },
  {
   "cell_type": "code",
   "execution_count": 64,
   "metadata": {},
   "outputs": [],
   "source": [
    "def sample_from_model(model, length=20):\n",
    "    a = np.random.randint(vocab_size)\n",
    "    sequence = []\n",
    "    for _ in range(length):\n",
    "        x = np.array(a).reshape(1,1)\n",
    "        a = tf.argmax(model(x)[1], 2).numpy()[0][0]\n",
    "        sequence.append(int_to_vocab[a])\n",
    "    \n",
    "    return ' '.join(sequence)"
   ]
  },
  {
   "cell_type": "code",
   "execution_count": 67,
   "metadata": {},
   "outputs": [
    {
     "name": "stdout",
     "output_type": "stream",
     "text": [
      "Epoch: 2 ... Loss: 3.35 ... Time_per_batch: 0.11sec/batch\n",
      "Epoch: 4 ... Loss: 3.23 ... Time_per_batch: 0.12sec/batch\n",
      "Epoch: 5 ... Loss: 2.95 ... Time_per_batch: 0.12sec/batch\n",
      "Epoch: 7 ... Loss: 2.88 ... Time_per_batch: 0.12sec/batch\n",
      "Epoch: 8 ... Loss: 2.71 ... Time_per_batch: 0.11sec/batch\n",
      "Epoch: 10 ... Loss: 2.61 ... Time_per_batch: 0.12sec/batch\n",
      "Epoch: 11 ... Loss: 2.46 ... Time_per_batch: 0.12sec/batch\n",
      "Epoch: 13 ... Loss: 2.38 ... Time_per_batch: 0.11sec/batch\n",
      "Epoch: 14 ... Loss: 2.30 ... Time_per_batch: 0.11sec/batch\n",
      "Epoch: 16 ... Loss: 2.22 ... Time_per_batch: 0.11sec/batch\n",
      "ripping smiles good-looking batmobile cover dollar nein stink spending hook smiles good-looking batmobile cover dollar nein stink spending hook smiles\n",
      "\n",
      "\n",
      "\n",
      "Epoch: 17 ... Loss: 2.12 ... Time_per_batch: 0.12sec/batch\n",
      "Epoch: 19 ... Loss: 2.04 ... Time_per_batch: 0.12sec/batch\n",
      "Epoch: 20 ... Loss: 1.94 ... Time_per_batch: 0.12sec/batch\n",
      "Epoch: 22 ... Loss: 1.88 ... Time_per_batch: 0.12sec/batch\n",
      "Epoch: 23 ... Loss: 1.82 ... Time_per_batch: 0.12sec/batch\n",
      "Epoch: 25 ... Loss: 1.78 ... Time_per_batch: 0.12sec/batch\n",
      "Epoch: 26 ... Loss: 1.71 ... Time_per_batch: 0.11sec/batch\n",
      "Epoch: 28 ... Loss: 1.68 ... Time_per_batch: 0.12sec/batch\n",
      "Epoch: 29 ... Loss: 1.64 ... Time_per_batch: 0.12sec/batch\n",
      "Epoch: 31 ... Loss: 1.61 ... Time_per_batch: 0.12sec/batch\n",
      "cherry dateline: tells followed lists achebe horses tummies paint instantly regret sistine am disturbing outside suspenders semi-imported feelings spacey crying\n",
      "\n",
      "\n",
      "\n",
      "Epoch: 32 ... Loss: 1.57 ... Time_per_batch: 0.12sec/batch\n",
      "Epoch: 34 ... Loss: 1.52 ... Time_per_batch: 0.12sec/batch\n",
      "Epoch: 35 ... Loss: 1.48 ... Time_per_batch: 0.12sec/batch\n",
      "Epoch: 37 ... Loss: 1.43 ... Time_per_batch: 0.11sec/batch\n",
      "Epoch: 38 ... Loss: 1.40 ... Time_per_batch: 0.12sec/batch\n",
      "Epoch: 40 ... Loss: 1.38 ... Time_per_batch: 0.12sec/batch\n",
      "Epoch: 41 ... Loss: 1.35 ... Time_per_batch: 0.12sec/batch\n",
      "Epoch: 43 ... Loss: 1.32 ... Time_per_batch: 0.11sec/batch\n",
      "Epoch: 44 ... Loss: 1.30 ... Time_per_batch: 0.11sec/batch\n",
      "Epoch: 46 ... Loss: 1.27 ... Time_per_batch: 0.11sec/batch\n",
      "ing thrown micronesian martini bust pursue percent island british nuked into dateline fire_inspector: batmobile cover dollar nein stink spending hook\n",
      "\n",
      "\n",
      "\n",
      "Epoch: 47 ... Loss: 1.25 ... Time_per_batch: 0.12sec/batch\n",
      "Epoch: 49 ... Loss: 1.21 ... Time_per_batch: 0.11sec/batch\n",
      "Epoch: 50 ... Loss: 1.19 ... Time_per_batch: 0.11sec/batch\n",
      "Epoch: 52 ... Loss: 1.17 ... Time_per_batch: 0.12sec/batch\n",
      "Epoch: 54 ... Loss: 1.16 ... Time_per_batch: 0.11sec/batch\n",
      "Epoch: 55 ... Loss: 1.14 ... Time_per_batch: 0.12sec/batch\n",
      "Epoch: 57 ... Loss: 1.12 ... Time_per_batch: 0.12sec/batch\n",
      "Epoch: 58 ... Loss: 1.10 ... Time_per_batch: 0.12sec/batch\n",
      "Epoch: 60 ... Loss: 1.06 ... Time_per_batch: 0.12sec/batch\n",
      "Epoch: 61 ... Loss: 1.03 ... Time_per_batch: 0.11sec/batch\n",
      "koji animals punches cheering football_announcer: corn riding boxing_announcer: shall cannot yea morning-after information airport principal listens drown official 'evening showed\n",
      "\n",
      "\n",
      "\n",
      "Epoch: 63 ... Loss: 1.00 ... Time_per_batch: 0.12sec/batch\n",
      "Epoch: 64 ... Loss: 0.98 ... Time_per_batch: 0.12sec/batch\n",
      "Epoch: 66 ... Loss: 0.96 ... Time_per_batch: 0.12sec/batch\n",
      "Epoch: 67 ... Loss: 0.94 ... Time_per_batch: 0.12sec/batch\n",
      "Epoch: 69 ... Loss: 0.93 ... Time_per_batch: 0.12sec/batch\n",
      "Epoch: 70 ... Loss: 0.93 ... Time_per_batch: 0.12sec/batch\n",
      "Epoch: 72 ... Loss: 0.94 ... Time_per_batch: 0.12sec/batch\n",
      "Epoch: 73 ... Loss: 0.93 ... Time_per_batch: 0.12sec/batch\n",
      "Epoch: 75 ... Loss: 0.91 ... Time_per_batch: 0.12sec/batch\n",
      "Epoch: 76 ... Loss: 0.88 ... Time_per_batch: 0.12sec/batch\n",
      "knowledge germs rag urinal runners superhero cooler tummies paint instantly regret sistine am disturbing outside suspenders semi-imported feelings spacey crying\n",
      "\n",
      "\n",
      "\n",
      "Epoch: 78 ... Loss: 0.87 ... Time_per_batch: 0.12sec/batch\n",
      "Epoch: 79 ... Loss: 0.86 ... Time_per_batch: 0.12sec/batch\n",
      "Epoch: 81 ... Loss: 0.83 ... Time_per_batch: 0.12sec/batch\n",
      "Epoch: 82 ... Loss: 0.81 ... Time_per_batch: 0.11sec/batch\n",
      "Epoch: 84 ... Loss: 0.79 ... Time_per_batch: 0.11sec/batch\n",
      "Epoch: 85 ... Loss: 0.79 ... Time_per_batch: 0.12sec/batch\n",
      "Epoch: 87 ... Loss: 0.77 ... Time_per_batch: 0.12sec/batch\n",
      "Epoch: 88 ... Loss: 0.76 ... Time_per_batch: 0.12sec/batch\n",
      "Epoch: 90 ... Loss: 0.75 ... Time_per_batch: 0.12sec/batch\n",
      "Epoch: 91 ... Loss: 0.73 ... Time_per_batch: 0.12sec/batch\n",
      "carey food lie enemy vin lugs beats harvey timbuk-tee shyly dimly confidentially 'cept recorder frat past chew appearance-altering banks caused\n",
      "\n",
      "\n",
      "\n",
      "Epoch: 93 ... Loss: 0.72 ... Time_per_batch: 0.12sec/batch\n",
      "Epoch: 94 ... Loss: 0.69 ... Time_per_batch: 0.12sec/batch\n",
      "Epoch: 96 ... Loss: 0.68 ... Time_per_batch: 0.12sec/batch\n",
      "Epoch: 97 ... Loss: 0.66 ... Time_per_batch: 0.11sec/batch\n"
     ]
    },
    {
     "ename": "KeyboardInterrupt",
     "evalue": "",
     "output_type": "error",
     "traceback": [
      "\u001b[0;31m---------------------------------------------------------------------------\u001b[0m",
      "\u001b[0;31mKeyboardInterrupt\u001b[0m                         Traceback (most recent call last)",
      "\u001b[0;32m<ipython-input-67-0c7bd91c2e5e>\u001b[0m in \u001b[0;36m<module>\u001b[0;34m\u001b[0m\n\u001b[1;32m     13\u001b[0m         \u001b[0mlosses\u001b[0m\u001b[0;34m.\u001b[0m\u001b[0mappend\u001b[0m\u001b[0;34m(\u001b[0m\u001b[0mloss\u001b[0m\u001b[0;34m)\u001b[0m\u001b[0;34m\u001b[0m\u001b[0;34m\u001b[0m\u001b[0m\n\u001b[1;32m     14\u001b[0m         \u001b[0mgrads\u001b[0m \u001b[0;34m=\u001b[0m \u001b[0mtape\u001b[0m\u001b[0;34m.\u001b[0m\u001b[0mgradient\u001b[0m\u001b[0;34m(\u001b[0m\u001b[0mloss\u001b[0m\u001b[0;34m,\u001b[0m \u001b[0mmodel\u001b[0m\u001b[0;34m.\u001b[0m\u001b[0mtrainable_variables\u001b[0m\u001b[0;34m)\u001b[0m\u001b[0;34m\u001b[0m\u001b[0;34m\u001b[0m\u001b[0m\n\u001b[0;32m---> 15\u001b[0;31m         \u001b[0mopt\u001b[0m\u001b[0;34m.\u001b[0m\u001b[0mapply_gradients\u001b[0m\u001b[0;34m(\u001b[0m\u001b[0mzip\u001b[0m\u001b[0;34m(\u001b[0m\u001b[0mgrads\u001b[0m\u001b[0;34m,\u001b[0m \u001b[0mmodel\u001b[0m\u001b[0;34m.\u001b[0m\u001b[0mtrainable_variables\u001b[0m\u001b[0;34m)\u001b[0m\u001b[0;34m)\u001b[0m\u001b[0;34m\u001b[0m\u001b[0;34m\u001b[0m\u001b[0m\n\u001b[0m\u001b[1;32m     16\u001b[0m         \u001b[0;32mif\u001b[0m \u001b[0mitr\u001b[0m\u001b[0;34m%\u001b[0m\u001b[0mshow_every_n_batches\u001b[0m\u001b[0;34m==\u001b[0m\u001b[0;36m0\u001b[0m\u001b[0;34m:\u001b[0m\u001b[0;34m\u001b[0m\u001b[0;34m\u001b[0m\u001b[0m\n\u001b[1;32m     17\u001b[0m             \u001b[0mprint\u001b[0m\u001b[0;34m(\u001b[0m\u001b[0;34m\"Epoch: {} ... Loss: {:.2f} ... Time_per_batch: {:.2f}sec/batch\"\u001b[0m\u001b[0;34m.\u001b[0m\u001b[0mformat\u001b[0m\u001b[0;34m(\u001b[0m\u001b[0me\u001b[0m\u001b[0;34m+\u001b[0m\u001b[0;36m1\u001b[0m\u001b[0;34m,\u001b[0m \u001b[0mnp\u001b[0m\u001b[0;34m.\u001b[0m\u001b[0mmean\u001b[0m\u001b[0;34m(\u001b[0m\u001b[0mlosses\u001b[0m\u001b[0;34m[\u001b[0m\u001b[0;34m-\u001b[0m\u001b[0mshow_every_n_batches\u001b[0m\u001b[0;34m:\u001b[0m\u001b[0;34m]\u001b[0m\u001b[0;34m)\u001b[0m\u001b[0;34m,\u001b[0m \u001b[0;34m(\u001b[0m\u001b[0mtime\u001b[0m\u001b[0;34m(\u001b[0m\u001b[0;34m)\u001b[0m\u001b[0;34m-\u001b[0m\u001b[0mstart\u001b[0m\u001b[0;34m)\u001b[0m\u001b[0;34m/\u001b[0m\u001b[0mshow_every_n_batches\u001b[0m\u001b[0;34m)\u001b[0m\u001b[0;34m)\u001b[0m\u001b[0;34m\u001b[0m\u001b[0;34m\u001b[0m\u001b[0m\n",
      "\u001b[0;32m~/anaconda3/lib/python3.7/site-packages/tensorflow_core/python/keras/optimizer_v2/optimizer_v2.py\u001b[0m in \u001b[0;36mapply_gradients\u001b[0;34m(self, grads_and_vars, name)\u001b[0m\n\u001b[1;32m    435\u001b[0m         \u001b[0mself\u001b[0m\u001b[0;34m.\u001b[0m\u001b[0m_create_slots\u001b[0m\u001b[0;34m(\u001b[0m\u001b[0mvar_list\u001b[0m\u001b[0;34m)\u001b[0m\u001b[0;34m\u001b[0m\u001b[0;34m\u001b[0m\u001b[0m\n\u001b[1;32m    436\u001b[0m \u001b[0;34m\u001b[0m\u001b[0m\n\u001b[0;32m--> 437\u001b[0;31m       \u001b[0mapply_state\u001b[0m \u001b[0;34m=\u001b[0m \u001b[0mself\u001b[0m\u001b[0;34m.\u001b[0m\u001b[0m_prepare\u001b[0m\u001b[0;34m(\u001b[0m\u001b[0mvar_list\u001b[0m\u001b[0;34m)\u001b[0m\u001b[0;34m\u001b[0m\u001b[0;34m\u001b[0m\u001b[0m\n\u001b[0m\u001b[1;32m    438\u001b[0m       return distribute_ctx.get_replica_context().merge_call(\n\u001b[1;32m    439\u001b[0m           \u001b[0mfunctools\u001b[0m\u001b[0;34m.\u001b[0m\u001b[0mpartial\u001b[0m\u001b[0;34m(\u001b[0m\u001b[0mself\u001b[0m\u001b[0;34m.\u001b[0m\u001b[0m_distributed_apply\u001b[0m\u001b[0;34m,\u001b[0m \u001b[0mapply_state\u001b[0m\u001b[0;34m=\u001b[0m\u001b[0mapply_state\u001b[0m\u001b[0;34m)\u001b[0m\u001b[0;34m,\u001b[0m\u001b[0;34m\u001b[0m\u001b[0;34m\u001b[0m\u001b[0m\n",
      "\u001b[0;32m~/anaconda3/lib/python3.7/site-packages/tensorflow_core/python/keras/optimizer_v2/optimizer_v2.py\u001b[0m in \u001b[0;36m_prepare\u001b[0;34m(self, var_list)\u001b[0m\n\u001b[1;32m    612\u001b[0m       \u001b[0mapply_state\u001b[0m\u001b[0;34m[\u001b[0m\u001b[0;34m(\u001b[0m\u001b[0mvar_device\u001b[0m\u001b[0;34m,\u001b[0m \u001b[0mvar_dtype\u001b[0m\u001b[0;34m)\u001b[0m\u001b[0;34m]\u001b[0m \u001b[0;34m=\u001b[0m \u001b[0;34m{\u001b[0m\u001b[0;34m}\u001b[0m\u001b[0;34m\u001b[0m\u001b[0;34m\u001b[0m\u001b[0m\n\u001b[1;32m    613\u001b[0m       \u001b[0;32mwith\u001b[0m \u001b[0mops\u001b[0m\u001b[0;34m.\u001b[0m\u001b[0mdevice\u001b[0m\u001b[0;34m(\u001b[0m\u001b[0mvar_device\u001b[0m\u001b[0;34m)\u001b[0m\u001b[0;34m:\u001b[0m\u001b[0;34m\u001b[0m\u001b[0;34m\u001b[0m\u001b[0m\n\u001b[0;32m--> 614\u001b[0;31m         \u001b[0mself\u001b[0m\u001b[0;34m.\u001b[0m\u001b[0m_prepare_local\u001b[0m\u001b[0;34m(\u001b[0m\u001b[0mvar_device\u001b[0m\u001b[0;34m,\u001b[0m \u001b[0mvar_dtype\u001b[0m\u001b[0;34m,\u001b[0m \u001b[0mapply_state\u001b[0m\u001b[0;34m)\u001b[0m\u001b[0;34m\u001b[0m\u001b[0;34m\u001b[0m\u001b[0m\n\u001b[0m\u001b[1;32m    615\u001b[0m \u001b[0;34m\u001b[0m\u001b[0m\n\u001b[1;32m    616\u001b[0m     \u001b[0;32mreturn\u001b[0m \u001b[0mapply_state\u001b[0m\u001b[0;34m\u001b[0m\u001b[0;34m\u001b[0m\u001b[0m\n",
      "\u001b[0;32m~/anaconda3/lib/python3.7/site-packages/tensorflow_core/python/keras/optimizer_v2/adam.py\u001b[0m in \u001b[0;36m_prepare_local\u001b[0;34m(self, var_device, var_dtype, apply_state)\u001b[0m\n\u001b[1;32m    169\u001b[0m         \u001b[0mbeta_2_t\u001b[0m\u001b[0;34m=\u001b[0m\u001b[0mbeta_2_t\u001b[0m\u001b[0;34m,\u001b[0m\u001b[0;34m\u001b[0m\u001b[0;34m\u001b[0m\u001b[0m\n\u001b[1;32m    170\u001b[0m         \u001b[0mbeta_2_power\u001b[0m\u001b[0;34m=\u001b[0m\u001b[0mbeta_2_power\u001b[0m\u001b[0;34m,\u001b[0m\u001b[0;34m\u001b[0m\u001b[0;34m\u001b[0m\u001b[0m\n\u001b[0;32m--> 171\u001b[0;31m         \u001b[0mone_minus_beta_2_t\u001b[0m\u001b[0;34m=\u001b[0m\u001b[0;36m1\u001b[0m \u001b[0;34m-\u001b[0m \u001b[0mbeta_2_t\u001b[0m\u001b[0;34m\u001b[0m\u001b[0;34m\u001b[0m\u001b[0m\n\u001b[0m\u001b[1;32m    172\u001b[0m     ))\n\u001b[1;32m    173\u001b[0m \u001b[0;34m\u001b[0m\u001b[0m\n",
      "\u001b[0;32m~/anaconda3/lib/python3.7/site-packages/tensorflow_core/python/ops/math_ops.py\u001b[0m in \u001b[0;36mr_binary_op_wrapper\u001b[0;34m(y, x)\u001b[0m\n\u001b[1;32m    920\u001b[0m           sp_x.dense_shape)\n\u001b[1;32m    921\u001b[0m \u001b[0;34m\u001b[0m\u001b[0m\n\u001b[0;32m--> 922\u001b[0;31m   \u001b[0;32mdef\u001b[0m \u001b[0mr_binary_op_wrapper\u001b[0m\u001b[0;34m(\u001b[0m\u001b[0my\u001b[0m\u001b[0;34m,\u001b[0m \u001b[0mx\u001b[0m\u001b[0;34m)\u001b[0m\u001b[0;34m:\u001b[0m\u001b[0;34m\u001b[0m\u001b[0;34m\u001b[0m\u001b[0m\n\u001b[0m\u001b[1;32m    923\u001b[0m     \u001b[0;32mwith\u001b[0m \u001b[0mops\u001b[0m\u001b[0;34m.\u001b[0m\u001b[0mname_scope\u001b[0m\u001b[0;34m(\u001b[0m\u001b[0;32mNone\u001b[0m\u001b[0;34m,\u001b[0m \u001b[0mop_name\u001b[0m\u001b[0;34m,\u001b[0m \u001b[0;34m[\u001b[0m\u001b[0mx\u001b[0m\u001b[0;34m,\u001b[0m \u001b[0my\u001b[0m\u001b[0;34m]\u001b[0m\u001b[0;34m)\u001b[0m \u001b[0;32mas\u001b[0m \u001b[0mname\u001b[0m\u001b[0;34m:\u001b[0m\u001b[0;34m\u001b[0m\u001b[0;34m\u001b[0m\u001b[0m\n\u001b[1;32m    924\u001b[0m       \u001b[0mx\u001b[0m \u001b[0;34m=\u001b[0m \u001b[0mops\u001b[0m\u001b[0;34m.\u001b[0m\u001b[0mconvert_to_tensor\u001b[0m\u001b[0;34m(\u001b[0m\u001b[0mx\u001b[0m\u001b[0;34m,\u001b[0m \u001b[0mdtype\u001b[0m\u001b[0;34m=\u001b[0m\u001b[0my\u001b[0m\u001b[0;34m.\u001b[0m\u001b[0mdtype\u001b[0m\u001b[0;34m.\u001b[0m\u001b[0mbase_dtype\u001b[0m\u001b[0;34m,\u001b[0m \u001b[0mname\u001b[0m\u001b[0;34m=\u001b[0m\u001b[0;34m\"x\"\u001b[0m\u001b[0;34m)\u001b[0m\u001b[0;34m\u001b[0m\u001b[0;34m\u001b[0m\u001b[0m\n",
      "\u001b[0;31mKeyboardInterrupt\u001b[0m: "
     ]
    }
   ],
   "source": [
    "itr = 0\n",
    "losses = []\n",
    "start = time()\n",
    "for e in range(num_epochs):\n",
    "    batches = get_batches(int_text, batch_size, seq_length)\n",
    "    for batch in batches:\n",
    "        itr+=1\n",
    "        X, y = batch[0], batch[1]\n",
    "        with tf.GradientTape() as tape:\n",
    "            logits, outputs = model(X)\n",
    "            loss = loss_func(y, logits)\n",
    "            \n",
    "        losses.append(loss)\n",
    "        grads = tape.gradient(loss, model.trainable_variables)\n",
    "        opt.apply_gradients(zip(grads, model.trainable_variables))\n",
    "        if itr%show_every_n_batches==0:\n",
    "            print(\"Epoch: {} ... Loss: {:.2f} ... Time_per_batch: {:.2f}sec/batch\".format(e+1, np.mean(losses[-show_every_n_batches:]), (time()-start)/show_every_n_batches))\n",
    "            start = time()\n",
    "            \n",
    "        if itr%sample_every_n_batches==0:\n",
    "            print(sample_from_model(train_model))\n",
    "            print('\\n\\n')"
   ]
  },
  {
   "cell_type": "markdown",
   "metadata": {},
   "source": [
    "# The TV Script is Nonsensical\n",
    "It's ok if the TV script doesn't make any sense.  We trained on less than a megabyte of text.  In order to get good results, you'll have to use a smaller vocabulary or get more data.  Luckily there's more data!  As we mentioned in the beggining of this project, this is a subset of [another dataset](https://www.kaggle.com/wcukierski/the-simpsons-by-the-data).  We didn't have you train on all the data, because that would take too long.  However, you are free to train your neural network on all the data.  After you complete the project, of course.\n",
    "# Submitting This Project\n",
    "When submitting this project, make sure to run all the cells before saving the notebook. Save the notebook file as \"dlnd_tv_script_generation.ipynb\" and save it as a HTML file under \"File\" -> \"Download as\". Include the \"helper.py\" and \"problem_unittests.py\" files in your submission."
   ]
  }
 ],
 "metadata": {
  "kernelspec": {
   "display_name": "Python 3",
   "language": "python",
   "name": "python3"
  },
  "language_info": {
   "codemirror_mode": {
    "name": "ipython",
    "version": 3
   },
   "file_extension": ".py",
   "mimetype": "text/x-python",
   "name": "python",
   "nbconvert_exporter": "python",
   "pygments_lexer": "ipython3",
   "version": "3.7.3"
  },
  "toc": {
   "base_numbering": 1,
   "nav_menu": {},
   "number_sections": true,
   "sideBar": true,
   "skip_h1_title": false,
   "title_cell": "Table of Contents",
   "title_sidebar": "Contents",
   "toc_cell": true,
   "toc_position": {},
   "toc_section_display": true,
   "toc_window_display": false
  },
  "varInspector": {
   "cols": {
    "lenName": 16,
    "lenType": 16,
    "lenVar": 40
   },
   "kernels_config": {
    "python": {
     "delete_cmd_postfix": "",
     "delete_cmd_prefix": "del ",
     "library": "var_list.py",
     "varRefreshCmd": "print(var_dic_list())"
    },
    "r": {
     "delete_cmd_postfix": ") ",
     "delete_cmd_prefix": "rm(",
     "library": "var_list.r",
     "varRefreshCmd": "cat(var_dic_list()) "
    }
   },
   "types_to_exclude": [
    "module",
    "function",
    "builtin_function_or_method",
    "instance",
    "_Feature"
   ],
   "window_display": false
  },
  "widgets": {
   "state": {},
   "version": "1.1.2"
  }
 },
 "nbformat": 4,
 "nbformat_minor": 1
}
